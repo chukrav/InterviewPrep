{
 "cells": [
  {
   "cell_type": "markdown",
   "metadata": {},
   "source": [
    "### How I Completed Udacity’s Data Scientist Nanodegree in 1 Month"
   ](https://medium.com/swlh/how-i-completed-udacitys-data-scientist-nanodegree-in-1-month-abe41aeebfd7)
  },
  {
   "cell_type": "markdown",
   "metadata": {},
   "source": [
    "Everyone wants to learn the maximum amount of content in the minimum amount of time. But how? In this article, I will explain how I completed Udacity’s Data Scientist Nanodegree in 1 month when the [Udacity’s Data Scientist](https://www.udacity.com/course/data-scientist-nanodegree--nd025) home page says it takes around 4 months at 10 hrs/week."
   ]
  },
  {
   "cell_type": "markdown",
   "metadata": {},
   "source": [
    "Udacity’s Data Scientist Nanodegree is by far the best data science program in terms of relevance to industry I have taken online. It's totally worth the money and they are offering discounts due to Covid-19 too. It makes you completely ready to enter the job market with a portfolio of projects along with your online portfolio (GitHub and LinkedIn) up to the mark to land you the job you want."
   ]
  },
  {
   "cell_type": "markdown",
   "metadata": {},
   "source": [
    "##### Background and Prerequisites:\n",
    "\n",
    "The program assumes that you have knowledge of supervised and unsupervised machine learning algorithms and their implementations. Basic [Python](https://www.udacity.com/course/introduction-to-python--ud1110) and [SQL programming.](https://www.udacity.com/course/sql-for-data-analysis--ud198) You should also be comfortable with data analysis and [visualization](https://www.udacity.com/course/data-visualization-in-tableau--ud1006) using Python’s libraries such as NumPy, Pandas and matplotlib. Finally, you should have basic knowledge of [descriptive](https://www.udacity.com/course/intro-to-descriptive-statistics--ud827) and [inferential](https://www.udacity.com/course/intro-to-inferential-statistics--ud201) statistics and linear algebra."
   ]
  },
  {
   "cell_type": "markdown",
   "metadata": {},
   "source": [
    "![Essentials](Prerequsits.jpg \"Cut from paper\")"
   ]
  },
  {
   "cell_type": "markdown",
   "metadata": {},
   "source": [
    "Udacity’s Data Scientist Nanodegree is by far the best data science program in terms of relevance to industry I have taken online. It's totally worth the money and they are offering discounts due to Covid-19 too. It makes you completely ready to enter the job market with a portfolio of projects along with your online portfolio (GitHub and LinkedIn) up to the mark to land you the job you want\n",
    "\n",
    "This article is divided into the following sections:\n",
    "    1. Background and Prerequisites   \n",
    "    2. Time Management   \n",
    "    3. How to approach the program   \n",
    "    4. Projects   \n",
    "    5. Conclusion   \n",
    "\n",
    "Disclaimer: I had around 3 years of experience working in Python and around 2 years learning and working with Machine Learning before going into the program and due to Covid-19, I was on break from my semester classes too."
   ]
  },
  {
   "cell_type": "markdown",
   "metadata": {},
   "source": [
    "I had nothing else. But these suggestions apply even if you want to work part-time on this.\n",
    "1. Make a list of to-do items every night for the next day. Write your weekly goals and how you will achieve them by working daily   \n",
    "2. Devote a significant and exact time of your day to the program.   \n",
    "3. Remove all distractions when working. Use [Pomodoro](https://en.wikipedia.org/wiki/Pomodoro_Technique) technique to maximize your learning Keep yourself in check by letting someone else know about the program to remind you or do it with a friend or a colleague   \n",
    "4. Udacity’s 30daysofUdacity helps learning with hundreds of students and documenting their work.   "
   ]
  },
  {
   "cell_type": "markdown",
   "metadata": {},
   "source": [
    "##### How to approach the program\n",
    "\n",
    "Now, the Nanodegree is structured in a way that after every set of lectures there is a project that the student has to submit. Now if you complete all the videos before approaching the project, you will most likely go through the videos again in order to complete the project because most of the things you don’t remember exactly.\n",
    "\n",
    "Each project has a set of rubrics that it has to meet in order to be qualified as a valid submission. The rubrics directly match to the videos before the project. So, my advice before approaching any problem will be:\n",
    "\n",
    "1. Go through the rubrics of the project before starting a section. This way you will get the idea of what is needed and which videos will be helpful in that\n",
    "2. Implement as you go along. For instance, the first project requires you to analyze a dataset and write a blog post about it. The analysis is further divided into 5 phases. Implement each of the phases after watching the corresponding videos like understanding the business problem. Write what you understand and then move onto the next phase.\n",
    "3. Check each of your project to be in accordance with the rubrics at the end again just to be sure because sometimes you miss a small thing like not making doc strings for the functions you write\n",
    "4. Don’t wait for the reviews for a project before starting the new section. Start as soon as you complete the previous one."
   ]
  },
  {
   "cell_type": "markdown",
   "metadata": {},
   "source": [
    "##### Projects — How to\n",
    "\n",
    "Let’s discuss the projects in detail and how to approach them. I have discussed them generally in the previous section but here we see individual Projects.\n",
    "\n",
    "**_The first project_** is about analyzing a dataset to answer some business questions and writing a blog post about that. This was the most time-consuming project for me as I had no experience in writing blogs and actually hated writing. The trick to get this project done is to write the post along with the analysis because you often forget the exact reasoning for a particular analysis afterwards. Write the relevant information in the notebooks using markdown so that it helps you when you write the blog. **Do the analysis and the blog post in parallel.**\n",
    "\n",
    "**_The second project_** is about building ETL and ML pipelines for classifying messages into appropriate disaster categories with a web app built in Flask. This is probably the easiest project in the nanodegree as most of the code is given in the videos and can be used as such in the project. The pipelines are first built in notebooks with clear instructions for each cell block and then converted to python files. I would suggest to complete the notebooks in this project as it would directly help in the project and to watch the videos carefully as most of the code is same.\n",
    "\n",
    "**_The third project_** is about implementing various recommendation algorithms for recommending articles. The project is heavily based on your understanding of the algorithms explained in the videos as you have to implement them from scratch so solid problem-solving skills are needed in this project. On the other hand, the project is to be completed on a jupyter notebook and you have to fill in the functions’ definitions, so the project is directed clearly. My suggestion would be to watch how the instructor implements the algorithms in the videos as they tend to be similar and to complete the quizzes in the videos’ section by yourself.\n",
    "\n",
    "Don’t be afraid when approaching a project. I was scared too before starting my first project and that my writing was not good enough for the project to be accepted. The udacity reviewers give you adequate feedback to improve your project. **Complete the project rubrics and submit the project. Improve on it incrementally**"
   ]
  },
  {
   "cell_type": "markdown",
   "metadata": {},
   "source": [
    "##### Conclusion\n",
    "\n",
    "In this article, I shared suggestions and tips on how to approach the Udacity’s Data Scientist or in general any Nanodegree to maximize your learning in minimum amount of time. The main suggestions are summarized below:\n",
    "\n",
    "1. If you have basic Python data analysis and ML background, start the nanodegree. They have ample resources for prerequisites if you get stuck along the way. Don’t be afraid.\n",
    "2. Manage your time well. Plan beforehand. Set reminders and remove all distractions.\n",
    "1. Start the project early before watching all the corresponding video lectures. Implement what you learn and build on it incrementally.\n",
    "1. Keep the project rubrics in mind when implementing. They help to keep you on track.\n",
    "\n",
    "That’s all from my side. Have fun learning and building cool projects. Feel free to ask any questions in comments or connect with me on [LinkedIn](https://www.linkedin.com/in/nouman10/)"
   ]
  }
 ],
 "metadata": {
  "kernelspec": {
   "display_name": "Python 3",
   "language": "python",
   "name": "python3"
  },
  "language_info": {
   "codemirror_mode": {
    "name": "ipython",
    "version": 3
   },
   "file_extension": ".py",
   "mimetype": "text/x-python",
   "name": "python",
   "nbconvert_exporter": "python",
   "pygments_lexer": "ipython3",
   "version": "3.7.3"
  }
 },
 "nbformat": 4,
 "nbformat_minor": 2
}
