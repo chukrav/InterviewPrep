{
 "cells": [
  {
   "cell_type": "markdown",
   "metadata": {},
   "source": [
    "\n",
    "### [Applying to a Ph.D. Program](https://www.insidehighered.com/blogs/gradhacker/applying-phd-program)\n",
    "\n",
    "Advice for putting your best foot forward.   \n",
    "By DeWitt Scott   \n",
    "October 11, 2016   \n",
    "AddThis Sharing Buttons   \n",
    "\n",
    "DeWitt Scott received his doctorate in Educational Leadership from Chicago State University.  You can follow him on Twitter at @dscotthighered."
   ]
  },
  {
   "cell_type": "markdown",
   "metadata": {},
   "source": [
    "After much thought and contemplation, you have decided to pursue a doctoral degree.  You have visualized yourself 25 years into the future as a preeminent scholar in some discipline or field that matters to you.  Or, you see yourself using a Ph.D. to make a difference in the world outside of academia.  Either way, you are convinced that being regarded as “Dr. _________” is a part of your destiny.  Congratulations, now the work begins.\n",
    "\n",
    " \n",
    "\n",
    "Doctoral work and completion begins first and foremost with being accepted into a program, and no one is accepted into a program without first applying.  Below are simple, straightforward tips to help future Ph.D. applicants.  The advice given here pertains to a general Ph.D. application process and does not account for the discipline-specific needs of programs, such as in the sciences or arts."
   ]
  },
  {
   "cell_type": "markdown",
   "metadata": {},
   "source": [
    "1.  __Choose your program/institution based on the research interests of the faculty.__  A number of prospective Ph.D. students tend to consider the institution and its rank first and foremost when searching for a program.  While these things matter, what is most important are the research interests and advising potential of the faculty.  Your first objective should be to find a program that houses a faculty member(s) whose work you are interested in and whom you may want as an advisor or mentor.  Aligning yourself with a scholar who is an expert in an area of interest of yours can pay dividends that can benefit you throughout your career.  In addition, when seeking academic jobs, the reputation and influence of the person who chairs and serves on your dissertation committee often holds more weight than the name of the institution or program."
   ]
  },
  {
   "cell_type": "markdown",
   "metadata": {},
   "source": [
    "2.  __Start the application process early.__  Applying for an academic program that can take, on average, 6-8 years to complete, cannot be done adequately in 6-8 days.  Allow yourself the greatest potential for completing a quality application by starting early.  Most application deadlines tend to be in the fall before you start the program.  This means you should begin gathering materials and working out a plan to apply the spring before the deadline.  For instance, if you would like a start a Ph.D. in August 2018, the deadline for applying is typically in October/November 2017.  Consequently, you should begin working on the application process in April/May 2017.  Do not damage your chances for acceptance by rushing and submitting a mediocre application."
   ]
  },
  {
   "cell_type": "markdown",
   "metadata": {},
   "source": [
    "3.  __Ask for recommendation letters far in advance of the application deadline.__  Graduate programs will request recommendation letters from their applicants.  Considering that most Ph.D. applicants will either be matriculating, or not far removed, from their master’s and undergraduate days, recommendation letter requests will usually go to past professors.  Please understand that professors are extremely busy people.  In addition to being unwise, it is downright disrespectful to ask a professor for a recommendation letter two weeks before it is due.  The average professor, or anyone for that matter, will not rearrange the short-term priorities in their life to accommodate your procrastination or unprofessionalism.  Be courteous and give your former professors at least 3 months to provide you a recommendation letter.  That will allow them to plan accordingly and gather their thoughts about you in a comfortable manner.  Anything less than two months and you place yourself in jeopardy of receiving a mediocre letter or not receiving one at all."
   ]
  },
  {
   "cell_type": "markdown",
   "metadata": {},
   "source": [
    "4.  __Personal statements should show your potential to do original scholarly work.__  Applicants sometimes believe the personal statement is purely about expressing why you would like be accepted in the program and the goals you plan to achieve once you’ve finished.  On the contrary, applicants should use the personal statement to show their potential as a scholar.  Briefly discussing potential research interests, stating reasons for pursuing such interests, and describing how you hope to add to the discipline are all important ideas to elaborate on in the personal statement.  You must show faculty in the program that you have the potential to develop new knowledge through the posing of an adequate research question."
   ]
  },
  {
   "cell_type": "markdown",
   "metadata": {},
   "source": [
    "5.  __Prepare for the GRE like you would any other exam.__  There are far too many people who do not take the time to review study guides, test questions, and exam preps for the GRE.  Do not treat it like a general aptitude test that will measure your IQ just for the heck of it.  Allow yourself adequate time to prepare for the test.  Build time in your daily schedule to review math problems and study vocabulary and analogies.  When applying for a Ph.D. program leave nothing to chance, including the test that can make or break your acceptance into the program."
   ]
  },
  {
   "cell_type": "markdown",
   "metadata": {},
   "source": [
    "___Bonus:___\n",
    "\n",
    " \n",
    "\n",
    "6.  __You do not need a master’s degree to be accepted into all doctoral programs.__  This one is not really a tip for applying to a Ph.D. program but is more a general FYI.  Many people do not know that it is not absolutely mandatory for you obtain a master’s degree before pursuing a doctorate.  Some fields allow students to enter a Ph.D. program right after completing an undergraduate degree.  If you are sure that receiving a Ph.D. is a goal of yours and necessary for your career path, you should seriously consider pursuing a doctorate after receiving your bachelor’s degree.  Going straight for the doctorate can not only save you time but also money considering that most doctoral programs are fully funded and master’s programs are not.\n",
    "\n",
    " \n",
    "\n",
    "Obviously, this list does not cover every aspect of applying to a Ph.D. program.  These are just a few general pointers that may be helpful to those considering doctoral work.  Again, many of these points may not apply to specific disciplines and institutions that demand particular requirements.   Doctoral study is serious work.  Approach the application process with the respect it deserves and prepare for excellence in every way possible.\n",
    "\n",
    " \n",
    "\n",
    "Do you have any advice about the application process for prospective doctoral students?  What are some things you have learned through your own experiences as a Ph.D. applicant?\n",
    "\n",
    "\n",
    "[Photo by Google Images user Wikimedia Commons used under a Creative Commons license.]\n",
    "Read more by\n",
    "DeWitt Scott\n"
   ]
  }
 ],
 "metadata": {
  "kernelspec": {
   "display_name": "Python 3",
   "language": "python",
   "name": "python3"
  },
  "language_info": {
   "codemirror_mode": {
    "name": "ipython",
    "version": 3
   },
   "file_extension": ".py",
   "mimetype": "text/x-python",
   "name": "python",
   "nbconvert_exporter": "python",
   "pygments_lexer": "ipython3",
   "version": "3.7.3"
  }
 },
 "nbformat": 4,
 "nbformat_minor": 2
}
