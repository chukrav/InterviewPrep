{
 "cells": [
  {
   "cell_type": "markdown",
   "id": "98d71c11",
   "metadata": {},
   "source": [
    "## Full Stack Web Developer Roadmap 2022\n",
    "[link Medium.com](https://medium.com/codex/full-stack-web-developer-roadmap-2022-492add886b3d)"
   ]
  },
  {
   "cell_type": "markdown",
   "id": "c2db4057",
   "metadata": {},
   "source": [
    "![](images/Fuulstack2022.jpg \"\")"
   ]
  },
  {
   "cell_type": "markdown",
   "id": "cf2706ee",
   "metadata": {},
   "source": [
    "#### Everything you need to go from zero to hero in web development in 2022."
   ]
  },
  {
   "cell_type": "markdown",
   "id": "978fbf30",
   "metadata": {},
   "source": [
    "If you want to read one article before you enter into 2022 as a web developer then this is the article you should be reading. Hey everyone in this article we will be discussing everything you need to go from zero to one hundred in the web development field for 2022. And I will divide this article into some interesting sections so that you can jump around and according to your expertise read the most relevant part. Let’s go!\n",
    "\n",
    "#### Why You Have To Be A Web Developer?\n",
    "\n",
    "Okay, let’s start with why you have to be a web developer because that is something, I believe is super important to know before you get into the field. Now web development is one of the fields which, at this point is most rewarding and is most exciting to work as well. Given that you know the right things to learn and write things to do Why? Because web development unlocks opportunities whether that’s internships jobs, whether that’s building something on your own. It has got a lot of revenue coming in. Right now many good dev companies like Vercel are raising a lot of money from investors. That means they are creating a lot more opportunities for all of us as developers because those are the people they are hiring.\n",
    "\n",
    "And there is massive progress going on in the whole web development ecosystem whether that’s on frontend led by React Vue Svelte all these frameworks but that’s on the back end and databases with serverless architectures and things like that Planet scale DB or you know these Cloudflare workers and Cloudflare storage and so on. It’s almost like there’s a boom in technology, demand-supply everything, and if you can capture and if you can understand what’s going on in this space It would be a great investment in yourself.\n",
    "\n",
    "Now that we know why web development is so exciting and the frontend backend full stack parts are growing at a massive rate. Let’s understand how you can utilize the next year to become a web developer to get employed or build that startup build that product whatever your goal is in this article. All right I’m gonna start this article a little bit different we are not gonna just start discussing the tech stacks I am just gonna divide this article into a few sections."
   ]
  },
  {
   "cell_type": "markdown",
   "id": "f85da262",
   "metadata": {},
   "source": [
    "#### Bare Minimum Developer\n",
    "\n",
    "The first section here would be Bare Minimum Developer. So what is a bare minimum developer, this kind of developer is a person who knows no crap outside of the bare minimum technologies required to build something. There are pretty much infinite choices out there and if you look at hundreds of articles on the web you are gonna find learn Rust or learn React router or learn you know Redux and stuff like this. But you don’t need any of that. And I also recommend a lot of things that you also don’t need those things, but the upcoming sections would cover what is the minimum distilled value distilled content you need.\n",
    "\n",
    "#### Frontend: Bare Minimum Developer\n",
    "\n",
    "Let start with the frontend bare minimum stuff over here you need is the HTML first you are gonna need CSS and you are gonna need javascript, which is ES6 plus. and surprisingly for the frontend stack, this is pretty much it for the bare minimum developer right you don’t need to learn React you don’t need to learn Angular, Vue, Svelte, or any of that. Pretty much whatever you can technically build today with any of the above-mentioned frameworks you can build with HTML CSS and JavaScript.\n",
    "\n",
    "#### Backend: Bare Minimum Developer\n",
    "\n",
    "Let’s talk about a bit of backend now in the bare minimum section. So I’m going to say a programming language and I’m going to not tell a programming language, I’m going to talk, what the actual thing I would recommend but you can replace this with any programming language this could be Rust this could be Python this could be anyone, but Node.js is the recommended one because you already know javascript so that makes sense. Then you need to learn about API to understand how to build something and create something because most of your data exchange with the frontend would be through API. So in the API section, you should be familiar with REST architecture and some of the common methods: get, post, put, patch, and status codes all that stuff.\n",
    "\n",
    "And you should tell a certain extent aware of HTTP protocol as well. Why Because when I say HTTP I mean you understand the concept of the header in a request in an API request how cookies are transferred how additional JWT tokens might be transferred. Again I am putting this to a bare minimum because, once you have this knowledge, you can build a complete application. Whether that’s authentication mission whether that’s for authorization."
   ]
  },
  {
   "cell_type": "markdown",
   "id": "d1d1eff7",
   "metadata": {},
   "source": [
    "#### Strong Developer\n",
    "\n",
    "All right, let’s get to the second section which would be a strong developer section and this is the place where we will start putting in the real stuff the real things which are relevant, which are much more happening and much more making much more progress.\n",
    "\n",
    "Techs mentioned above were more of a foundational fundamental part because you need these technologies, you need these services to host and you need this information, but the strong developer part is something that is much more vibrant right now and is much relevant and increases your performance and developer experience as well and so on.\n",
    "\n",
    "#### Strong: Frontend Developer\n",
    "\n",
    "Alright, let’s again start with the front end part and this is the part where I would want to introduce something like the Tailwind framework, which will allow you to prototype designs and build websites with consistent layouts even faster, even quicker.\n",
    "\n",
    "At this point, I would automatically recommend Next.js, which automatically means the React already. Again this is my recommendation. You can swap this with Svelte or Vue or anything. At this point, I would recommend getting very strong with dev tools that are chrome dev tools that are my recommendation, so that you can debug and understand what you are doing on the front end.\n",
    "\n",
    "#### Strong: Backend Developer\n",
    "\n",
    "Let’s get to the backend now. In the backend section, we’re gonna add the first thing: we’re gonna add is the Linux part, because very soon in the next stage of your development cycle you would not only be just working with these easy providers Vercel and Netlify. You would also be deploying stuff on Linux servers so having understanding Linux and bash and general commands and browsing the file system.\n",
    "\n",
    "Similarly networking over there kind of comes into Linux services only but that’s also something you should be paying very close attention to. Caching is also a super important part to understand with something like Redis that is also important. And finally, web security is also one of the most important things you should know about as a developer."
   ]
  },
  {
   "cell_type": "markdown",
   "id": "cd0cc39f",
   "metadata": {},
   "source": [
    "#### Rockstar: Frontend Developer\n",
    "\n",
    "Finally, we have the category of rockstar frontend developer and in this area, things get really serious and you are trying to aim for the rockstar title for yourself. The first thing I’m going to use over here is the use of profiling.\n",
    "\n",
    "Profiling your code in the way of performance-based things. For example, if you are using a framework like React you should be able to understand what are the performance tradeoffs you’re doing for certain things.\n",
    "\n",
    "Right so, for example, learning about profiling and performance, basically both of them together learning about memoization techniques and how to speed up your builds and how to minimize the javascript and whatever you are doing. So that part is super important.\n",
    "\n",
    "Moving your codebase to TypeScript is also one of the best things you would do to yourself once you are into this area because once you go to TypeScript there is no coming back. And finally which is probably the most important is staying up to date with whatever is happening.\n",
    "\n",
    "Now, this is important why because I’m not telling you a lot about, a micro frontend, for example, because not a lot of people right now are using Vue inside React or Svelte inside React or some other framework.\n",
    "\n",
    "I’m not telling you about the web components because they are still not as hot as everyone predicted that they might become but staying up to date with these trends is important. After all, I don’t want to mention them right away because these are not relevant right now, but they might be very relevant six months down the line.\n",
    "\n",
    "So how do you stay relevant? Well, you can follow me on Medium, but staying up to date is one of the most important things I think in the frontend land right now because, as I said, a lot of innovation and a lot of progress are being made.\n",
    "\n",
    "#### Rockstar: Backend Developer\n",
    "\n",
    "Let’s talk about the backend and at this point, I would recommend, something like a cloud-based system instead of relying on just Saas providers like Vercel or anything or you know even Heroku. For example, so a cloud-based system is something like AWS or Google Cloud provider or Digitalocean that is also fine.\n",
    "\n",
    "But you have to start somewhere you have to get started with cloud providers where you are launching compute machines where you are exploring their services like S3, for example, EC2 you know you’re sending emails programmatically with SES instead of using Mailchimp or some sort of API which is super expensive compared to SES. Following with the cloud you have to explore these serverless and manage services as well.\n",
    "\n",
    "Buy these clouds, because cloud doesn’t mean that you pretty much have to do everything by yourself it means that you for the most difficult problems like storage and computes. You rely on already built services S3 for serverless as I mentioned compute is this in case of managed compute this would be kind of like Lambda working and exploring Lambda cloud watch how to trigger Lambdas on a cron job, for example, or how to trigger Lambdas on a certain event, so understanding about the serverless compute environment on the cloud is super important.\n",
    "\n",
    "Then again, TypeScript is super relevant here as well. And staying up to date again is also very important in the backend section."
   ]
  },
  {
   "cell_type": "markdown",
   "id": "b958db8a",
   "metadata": {},
   "source": [
    "#### Conclusion\n",
    "\n",
    "So yup this is my web development roadmap for 2022 for guys. If you follow this, this would pretty much be more than enough to get you from zero from HTML and CSS, which is a starting point to a hundred you know AWS infrastructure and everything end to end. This is like a complete roadmap picture there are a lot of places you can more technologies or learn more packages and learn more about those kinds of things but in a nutshell, This is all you need this is you know bird’s eye view of everything you need become a solid full stack developer in 2022."
   ]
  }
 ],
 "metadata": {
  "kernelspec": {
   "display_name": "Python 3",
   "language": "python",
   "name": "python3"
  },
  "language_info": {
   "codemirror_mode": {
    "name": "ipython",
    "version": 3
   },
   "file_extension": ".py",
   "mimetype": "text/x-python",
   "name": "python",
   "nbconvert_exporter": "python",
   "pygments_lexer": "ipython3",
   "version": "3.8.1"
  }
 },
 "nbformat": 4,
 "nbformat_minor": 5
}
