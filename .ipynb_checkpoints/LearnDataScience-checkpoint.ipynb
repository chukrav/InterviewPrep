{
 "cells": [
  {
   "cell_type": "markdown",
   "metadata": {},
   "source": [
    "## [A Complete Guide to Learn Data Science in 100 Days](https://medium.com/swlh/a-complete-guide-to-learn-data-science-in-100-days-8c6557154102)\n",
    "\n",
    "...   \n",
    "#### Show me the Path to Learn Data Science   \n",
    "to become a Data Scientist one needs to learn just enough from the below topics\n",
    "\n",
    "* Basics of Python or R programming\n",
    "* If you choose Python then libraries like Pandas and Numpy\n",
    "* Visualization libraries like ggplot, Seaborn, and Plotly.\n",
    "* Statistics\n",
    "* SQL Programming\n",
    "* Mathematics especially Linear Algebra and Calculus   \n",
    "\n",
    "In this below video I have mentioned the step-by-step guide to learn Data Science. I have explained the depth of knowledge required to reach different levels of expertise in Data Science.\n"
   ]
  },
  {
   "cell_type": "markdown",
   "metadata": {},
   "source": [
    "Day 1: Installation of Tool\n",
    "\n",
    "Just ensure that the required tools are installed and you become comfortable with the tool you are going to use for the next few weeks/months. If you choose Python then install Anaconda, which would also install the IDEs Jupyter Notebook and Spyder. In case you choose ‘R’ then install RStudio. Try to just play around the IDE and become comfortable in using it. Like, try to understand about the installation of packages/libraries, executing a portion of the code, clearing the memory, and so on.\n",
    "\n",
    "Day 2 to Day 7: Basic Programming for Data Science\n",
    "\n",
    "The next step is to learn basic programming, below are some of the topics that should be learned\n",
    "\n",
    "*   Creation of Variable\n",
    "*    String Data Type and operation commonly performed on a String Data type\n",
    "*    Numeric Data type, Boolean and Operators\n",
    "*    Collection data types List, Tuple, Sets, and Dictionary — It is important to understand the uniqueness and difference between each one of them’\n",
    "*    If-Then-Else Conditions, For Loop and While Loop Implementations\n",
    "*    Functions and Lambda Function — Benefits of each of them and their differences"
   ]
  },
  {
   "cell_type": "markdown",
   "metadata": {},
   "source": [
    "Day 8 to Day 17: Pandas Library\n",
    "\n",
    "Learn about the Pandas library, some of the topics that one needs to learn in pandas are,\n",
    "\n",
    "*    Creating a data frame, reading data from a file, and writing a data frame to a file\n",
    "*    Indexing and Selection of data from a data frame\n",
    "*    Iteration and Sorting\n",
    "*    Aggregation and Group By\n",
    "*    Missing Values and handling of missing values\n",
    "*    Renaming and Replacing in Pandas\n",
    "*    Concatenating, Merging, and Joining in a data frame\n",
    "*    Summary Analysis, Cross Tabulation, and Pivot\n",
    "*    Date, Categorical and Sparse Data\n",
    "\n",
    "Spend a good 10 days in thoroughly learning the above topics as these topics will be very useful when you perform exploratory data analysis. While covering these topics try to go into the granular details like understanding the differences between merge and join, Crosstab and Pivot by that you not only learn about each one of them but also know when and where to use them.\n",
    "\n",
    "Why should I learn Pandas? If you take any Data Science project they always begin with exploratory data analysis to understand the data better and these topics you have covered in pandas would come in handy. Also, because Pandas would help in reading data from different sources and formats, they are fast and efficient and also provides easy functionalities to perform various operation on the dataset."
   ]
  },
  {
   "cell_type": "markdown",
   "metadata": {},
   "source": [
    "Day 18 to Day 22: Numpy Library\n",
    "\n",
    "Having learned Pandas the next important library to be learned is Numpy. The reason to learn Numpy is that they are very fast as compared to List. The topics to cover in Numpy would include\n",
    "\n",
    "*    Creation of an Array\n",
    "*    Indexing and Slicing\n",
    "*    Data Types\n",
    "*    Joining and splitting\n",
    "*    Searching and Sorting\n",
    "*    Filtering required data elements\n",
    "\n",
    "Why is it important to learn Numpy? Numpy enables the performance of scientific operations on the data in a fast and efficient way. It supports efficient matrix operations which are commonly used in machine learning algorithms and also pandas library extensively uses Numpy"
   ]
  },
  {
   "cell_type": "markdown",
   "metadata": {},
   "source": [
    "Day 23 to Day 25: Visualizations\n",
    "\n",
    "Now its time to spend some quality time understanding and using some of the key visualization libraries like ggplot, Plotly, and Seaborn. Use a sample dataset and try different visualization like Bar Chart, Line/Trend Chart, Box Plot, Scatter Plots, Heatmaps, Pie Chart, Histogram, Bubble Charts, and other interesting or interactive visualizations.\n",
    "The key in a Data Science project is the communication of insights to the stakeholders and visualizations are a great tool for that purpose.\n",
    "\n",
    "Day 26 to Day 35: Statistics, Implementation, and Use-cases\n",
    "\n",
    "The next important topic to be covered is Statistics, explore the descriptive statistics techniques that are commonly used such as Mean, Median, Mode, Range Analysis, Standard Deviations, and Variances.\n",
    "\n",
    "Then cover slightly deeper techniques such as identifying the Outliers in the Dataset and measuring the Margin of Error.\n",
    "\n",
    "As a final step start exploring the various statistics test such as below, understand the application of these statistical tests in real-life\n",
    "\n",
    "*    F-test\n",
    "*    ANOVA\n",
    "*    Chi-Squared Test\n",
    "*    T-Test\n",
    "*    Z-Test\n",
    "\n",
    "Day 36 to Day 40: SQL for Data Analysis\n",
    "\n",
    "Now time to learn some SQL, this is important because in most corporate use-cases the data will be stored in a Database, and knowing SQL will greatly help in querying the required data from the system for the analysis.\n",
    "\n",
    "You can start by installing an opensource Database such as MySQL, it would come with some default databases just play around with the data and learn SQL. It will be good if you could focus on learning the below\n",
    "\n",
    "*    Selecting data from a table\n",
    "*    Joining data from different tables based on a key\n",
    "*    Performing Group by and Aggregation functions on data\n",
    "*    Use of case statements and filter conditions\n",
    "\n"
   ]
  }
 ],
 "metadata": {
  "kernelspec": {
   "display_name": "Python 3",
   "language": "python",
   "name": "python3"
  },
  "language_info": {
   "codemirror_mode": {
    "name": "ipython",
    "version": 3
   },
   "file_extension": ".py",
   "mimetype": "text/x-python",
   "name": "python",
   "nbconvert_exporter": "python",
   "pygments_lexer": "ipython3",
   "version": "3.7.3"
  }
 },
 "nbformat": 4,
 "nbformat_minor": 2
}
