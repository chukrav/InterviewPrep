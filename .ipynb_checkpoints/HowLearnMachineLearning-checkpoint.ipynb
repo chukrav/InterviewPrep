{
 "cells": [
  {
   "cell_type": "markdown",
   "metadata": {},
   "source": [
    "### How to learn Machine Learning?\n",
    "[link](https://medium.com/machine-intelligence-report/how-to-learn-machine-learning-6fa1c66bf039)  \n",
    "Roman Kierzkowski\n",
    "Mar 13, 2016 · 4 min read  \n",
    "Some time ago I started a journey into one of the most exciting fields in Computer Science — Machine Learning. This is my subjective guide for anyone who would like to explore this topic, but don’t know how to start."
   ]
  },
  {
   "cell_type": "markdown",
   "metadata": {},
   "source": [
    "##### Before You Go\n",
    "\n",
    "It’s time to pack our bag:\n",
    "\n",
    "* math is a must — it will be hard to start if you don’t know a glimpse of algebra and calculus. You don’t have to be an expert, but you must know what a minimum of a function is and understand that math can be done on symbols.\n",
    "* programming — some programming experience is necessary. Machine Learning is not a place to take baby steps in programming. If you cannot code, take one of many Programming 101 courses. Python is a good language of choice."
   ]
  },
  {
   "cell_type": "markdown",
   "metadata": {},
   "source": [
    "##### First Steps\n",
    "\n",
    "Your first steps should lead to [Stanford Machine Learning](https://www.coursera.org/learn/machine-learning) class at Coursera by Andrew Ng. This course is simply brilliant! Along a way, you will be given everything you need to know, including algebra review. You will not only get the overview of supervised and unsupervised techniques but you will gather hands on experience through coding assignments in Octave (or Matlab). Pull in your weight and you will gain a lot of self-confidence. You will probably reach peak in Dunning-Kruger Effect.\n",
    "![](images/DunningKruggerEffect.jpg \"\")"
   ]
  },
  {
   "cell_type": "markdown",
   "metadata": {},
   "source": [
    "##### Try Yourself Out\n",
    "\n",
    "Try yourself out in one of ML competitions on Kaggle. You probably will not win, but you will get an idea what you still need to learn.\n",
    "##### Walking Shoes\n",
    "\n",
    "It’s time to buy better shoes. There are plenty of options, but two stands out: Python and R.\n",
    "\n",
    "This two have strong and opinionated believers. Among people I met, those with math background prefer R and those with roots in CS get along with Python. I would recommend to start with Python. It is beautiful language and you will get faster to exciting stuff. The most popular ML library for Python is scikit-learn. To make your work convenient try out interactive environments: ipython is better console for python and Jupyter is programming notebook which works also with R. Data processing can be done with PANDAS.\n",
    "\n",
    "With R you get caret package, RStudio, knitr and Shiny as counter parts."
   ]
  },
  {
   "cell_type": "markdown",
   "metadata": {},
   "source": [
    "##### It Is All About Data\n",
    "\n",
    "Is it is getting to you that whole Machine Learning fuss is all about data? It is time to learn R and become [Data Scientist](https://www.coursera.org/specializations/jhu-data-science) with John Hopkins specialization on Coursera. It is 9 classes that will teach you data scientist toolkit, data exploration and visualization, statistical inference and regression. Everything is wrapped up with the capstone project.\n",
    "##### It Is Just Statistics\n",
    "\n",
    "[Practical Machine Learning](https://www.coursera.org/learn/practical-machine-learning) from Data Science specialization probably opened your eyes that there is more into ML than Andrew Ng taught you. Get deep into the field of [Statistical Learning with Stanford](https://lagunita.stanford.edu/courses/HumanitiesSciences/StatLearning/Winter2016/about) course by Rob Tibshirani and Trevor Hastie. These two and Jerome Friedman are the authors of ML Bible Elements of [Statistical Learning](http://statweb.stanford.edu/~tibs/ElemStatLearn/) which is available online for free.  \n",
    "You may feel that you need to supplement your knowledge of probability. There is a great class from MIT Introduction to Probability — The Science of Uncertainty on edX. I would also recommend a great book: Introduction to Probability by course instructor John N. Tsitsiklis."
   ]
  },
  {
   "cell_type": "markdown",
   "metadata": {},
   "source": [
    "##### Big Data\n",
    "\n",
    "It was proved that more data beats better algorithm. How to handle huge datasets?\n",
    "\n",
    "Graphic cards are able to do matrix calculations effectively and thats what we need in ML. To speed up calculations you can use libraries like OpenCL or Theano, but usually you can use frameworks like Keras that will do it for you.\n",
    "\n",
    "You can also to make computations parallel using map reduce paradigm. You can use Hadoop for that, but nowadays it becomes overshadowed by Spark which comes with own ML library MLib. If you want to learn more, take two great classes at Berkley via edX: [Introduction to Big Data](https://courses.edx.org/courses/BerkeleyX/CS100.1x/1T2015/info) with Apache Spark and [Scalable Machine Learning](https://courses.edx.org/courses/BerkeleyX/CS190.1x/1T2015/info)."
   ]
  },
  {
   "cell_type": "markdown",
   "metadata": {},
   "source": [
    "##### Search Your Own Path\n",
    "\n",
    "It’s time for you to search your own path. For fresh news in the field pay regular visits to [ML Reddit](https://www.reddit.com/r/machinelearning), [DataTau](http://www.datatau.com/). It is also good idea to join Facebook groups like [R-Cran Fan Club](https://www.facebook.com/groups/13769077491/)! Sign up to different MOOC platforms. Interesting courses keeps popping out.\n",
    "\n",
    "Good luck with your journey!"
   ]
  },
  {
   "cell_type": "markdown",
   "metadata": {},
   "source": [
    "#### _How To Learn Data Science - My path_\n",
    "[link](https://towardsdatascience.com/how-to-learn-data-science-my-path-ba7b9aa94f63)\n",
    "![](images/CSCuriculum.jpg \"\")\n",
    "**_Another Path_**\n",
    "![](images/CSRoudPass.jpg \"\")\n",
    "**_SQL Joins_**\n",
    "![](images/SQLJoins.jpg \"\")\n",
    "**_Data - past, present and future:_**\n",
    "![](images/DataPastFuture.jpg \"\")"
   ]
  },
  {
   "cell_type": "markdown",
   "metadata": {},
   "source": [
    "#### [How to Get into Data Science — Math Or Coding](https://towardsdatascience.com/math-vs-coding-data-science-43e216b4f671)  \n",
    "Mathematics and coding are equally important in data science, but if you are considering to switch or start your career in the data science field, I would say coding or programming skills are more important than deep dive to the math for various kinds of machine learning models.\n",
    "\n",
    "> * ___Start to do more real-world projects, and able to present and answer questions clearly during the interview will definitely increase your chance to get into data science.___    \n",
    "* ___Get into data science is hard, but remember not to give up and continue to work hard. All of your hard work will pay off soon, stick with what you’re doing no matter how hard it gets.___"
   ]
  }
 ],
 "metadata": {
  "kernelspec": {
   "display_name": "Python 3",
   "language": "python",
   "name": "python3"
  },
  "language_info": {
   "codemirror_mode": {
    "name": "ipython",
    "version": 3
   },
   "file_extension": ".py",
   "mimetype": "text/x-python",
   "name": "python",
   "nbconvert_exporter": "python",
   "pygments_lexer": "ipython3",
   "version": "3.7.3"
  }
 },
 "nbformat": 4,
 "nbformat_minor": 2
}
