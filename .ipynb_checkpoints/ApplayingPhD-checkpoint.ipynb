{
 "cells": [
  {
   "cell_type": "markdown",
   "metadata": {},
   "source": [
    "\n",
    "### [Applying to a Ph.D. Program](https://www.insidehighered.com/blogs/gradhacker/applying-phd-program)\n",
    "\n",
    "Advice for putting your best foot forward.   \n",
    "By DeWitt Scott   \n",
    "October 11, 2016   \n",
    "AddThis Sharing Buttons   \n",
    "\n",
    "DeWitt Scott received his doctorate in Educational Leadership from Chicago State University.  You can follow him on Twitter at @dscotthighered."
   ]
  },
  {
   "cell_type": "markdown",
   "metadata": {},
   "source": [
    "After much thought and contemplation, you have decided to pursue a doctoral degree.  You have visualized yourself 25 years into the future as a preeminent scholar in some discipline or field that matters to you.  Or, you see yourself using a Ph.D. to make a difference in the world outside of academia.  Either way, you are convinced that being regarded as “Dr. _________” is a part of your destiny.  Congratulations, now the work begins.\n",
    "\n",
    " \n",
    "\n",
    "Doctoral work and completion begins first and foremost with being accepted into a program, and no one is accepted into a program without first applying.  Below are simple, straightforward tips to help future Ph.D. applicants.  The advice given here pertains to a general Ph.D. application process and does not account for the discipline-specific needs of programs, such as in the sciences or arts."
   ]
  },
  {
   "cell_type": "markdown",
   "metadata": {},
   "source": [
    "1.  __Choose your program/institution based on the research interests of the faculty.__  A number of prospective Ph.D. students tend to consider the institution and its rank first and foremost when searching for a program.  While these things matter, what is most important are the research interests and advising potential of the faculty.  Your first objective should be to find a program that houses a faculty member(s) whose work you are interested in and whom you may want as an advisor or mentor.  Aligning yourself with a scholar who is an expert in an area of interest of yours can pay dividends that can benefit you throughout your career.  In addition, when seeking academic jobs, the reputation and influence of the person who chairs and serves on your dissertation committee often holds more weight than the name of the institution or program."
   ]
  },
  {
   "cell_type": "markdown",
   "metadata": {},
   "source": [
    "2.  __Start the application process early.__  Applying for an academic program that can take, on average, 6-8 years to complete, cannot be done adequately in 6-8 days.  Allow yourself the greatest potential for completing a quality application by starting early.  Most application deadlines tend to be in the fall before you start the program.  This means you should begin gathering materials and working out a plan to apply the spring before the deadline.  For instance, if you would like a start a Ph.D. in August 2018, the deadline for applying is typically in October/November 2017.  Consequently, you should begin working on the application process in April/May 2017.  Do not damage your chances for acceptance by rushing and submitting a mediocre application."
   ]
  },
  {
   "cell_type": "markdown",
   "metadata": {},
   "source": [
    "3.  __Ask for recommendation letters far in advance of the application deadline.__  Graduate programs will request recommendation letters from their applicants.  Considering that most Ph.D. applicants will either be matriculating, or not far removed, from their master’s and undergraduate days, recommendation letter requests will usually go to past professors.  Please understand that professors are extremely busy people.  In addition to being unwise, it is downright disrespectful to ask a professor for a recommendation letter two weeks before it is due.  The average professor, or anyone for that matter, will not rearrange the short-term priorities in their life to accommodate your procrastination or unprofessionalism.  Be courteous and give your former professors at least 3 months to provide you a recommendation letter.  That will allow them to plan accordingly and gather their thoughts about you in a comfortable manner.  Anything less than two months and you place yourself in jeopardy of receiving a mediocre letter or not receiving one at all."
   ]
  },
  {
   "cell_type": "markdown",
   "metadata": {},
   "source": [
    "4.  __Personal statements should show your potential to do original scholarly work.__  Applicants sometimes believe the personal statement is purely about expressing why you would like be accepted in the program and the goals you plan to achieve once you’ve finished.  On the contrary, applicants should use the personal statement to show their potential as a scholar.  Briefly discussing potential research interests, stating reasons for pursuing such interests, and describing how you hope to add to the discipline are all important ideas to elaborate on in the personal statement.  You must show faculty in the program that you have the potential to develop new knowledge through the posing of an adequate research question."
   ]
  },
  {
   "cell_type": "markdown",
   "metadata": {},
   "source": [
    "5.  __Prepare for the GRE like you would any other exam.__  There are far too many people who do not take the time to review study guides, test questions, and exam preps for the GRE.  Do not treat it like a general aptitude test that will measure your IQ just for the heck of it.  Allow yourself adequate time to prepare for the test.  Build time in your daily schedule to review math problems and study vocabulary and analogies.  When applying for a Ph.D. program leave nothing to chance, including the test that can make or break your acceptance into the program."
   ]
  },
  {
   "cell_type": "markdown",
   "metadata": {},
   "source": [
    "___Bonus:___\n",
    "\n",
    " \n",
    "\n",
    "6.  __You do not need a master’s degree to be accepted into all doctoral programs.__  This one is not really a tip for applying to a Ph.D. program but is more a general FYI.  Many people do not know that it is not absolutely mandatory for you obtain a master’s degree before pursuing a doctorate.  Some fields allow students to enter a Ph.D. program right after completing an undergraduate degree.  If you are sure that receiving a Ph.D. is a goal of yours and necessary for your career path, you should seriously consider pursuing a doctorate after receiving your bachelor’s degree.  Going straight for the doctorate can not only save you time but also money considering that most doctoral programs are fully funded and master’s programs are not.\n",
    "\n",
    " \n",
    "\n",
    "Obviously, this list does not cover every aspect of applying to a Ph.D. program.  These are just a few general pointers that may be helpful to those considering doctoral work.  Again, many of these points may not apply to specific disciplines and institutions that demand particular requirements.   Doctoral study is serious work.  Approach the application process with the respect it deserves and prepare for excellence in every way possible.\n",
    "\n",
    " \n",
    "\n",
    "Do you have any advice about the application process for prospective doctoral students?  What are some things you have learned through your own experiences as a Ph.D. applicant?\n",
    "\n",
    "\n",
    "[Photo by Google Images user Wikimedia Commons used under a Creative Commons license.]\n",
    "Read more by\n",
    "DeWitt Scott\n"
   ]
  },
  {
   "cell_type": "markdown",
   "metadata": {},
   "source": [
    "### How to Write a Personal Statement for a PhD Program Application\n",
    "\n",
    "#### [Personal Statement Guidelines](https://www.careereducation.columbia.edu/resources/how-write-personal-statement-phd-program-application)"
   ]
  },
  {
   "cell_type": "markdown",
   "metadata": {},
   "source": [
    "GENERAL GUIDELINES TO KEEP IN MIND:\n",
    "\n",
    "    One size does not fit all: Tailor your personal statement to each program and department you are applying to. Do your research to learn what is unique about each of your choices and highlight how this particular program stands out.\n",
    "    Yes, it’s personal: Showcase your unique strengths and accomplishments. Explain what influenced your personal decisions to pursue the program. Ask yourself, could this be applied to your friend or neighbor? If so, you need to be more specific and provide examples. Saying that you are a “good scientist” isn’t enough. Provide examples of your previous research experience, projects you’ve completed, and what technical skills you learned. Explain how you overcame any challenges along the way.\n",
    "    Set aside enough time:  Although personal statements are generally short in length (approx. 700 words; 1-2 pages), give yourself ample time to write a strong, well-written statement. It takes more time than you think to develop a final draft for submission.\n",
    "    Focus on your spelling, grammar, and vocabulary:  It’s important to present a well-written statement with good grammar and vocabulary. Write concrete, succinct sentences that flow well. Avoid flowery language. Visit the Writing Center for additional review and feedback.\n",
    "    Proofread one more time: Check your grammar and spelling again before submitting your final draft. Ask a friend, professor, or advisor to proofread your final draft one more time before sending it in. \n"
   ]
  },
  {
   "cell_type": "markdown",
   "metadata": {},
   "source": [
    "YOUR PERSONAL STATEMENT SHOULD ANSWER THE FOLLOWING QUESTIONS:\n",
    "\n",
    "* Why do you want to complete further research in this field? Write down a list of reasons as to why you are interested in pursuing further study in the field. When did you become interested in the field and what knowledge have you gained so far? Describe how your previous work provided the foundation and for further study.\n",
    "* Why have you chosen to apply to this particular university? Does the institution have a particular curriculum, special research facilities/equipment, or interesting research that appeal to you?\n",
    "* What are your strengths? Demonstrate how you stand out from other candidates. Highlight relevant projects, dissertations thesis or essays that demonstrate your academic skills and creativity. Include IT skills, research techniques, awards, or relevant traveling/ study abroad experience.\n",
    "* What are your transferable skills? Be sure to emphasize transferable skills such as communication, teamwork, and time management skills. Give examples of how you have demonstrated each of these with specific examples.\n",
    "* How does this program align with your career goals? It’s okay if you don’t know the exact career path you plan to take after completing your PhD. Provide an idea of the direction you would like to take. This demonstrates commitment and dedication to the program.\n"
   ]
  },
  {
   "cell_type": "markdown",
   "metadata": {},
   "source": [
    "__ADDITIONAL RESOURCES__\n",
    "\n",
    "For examples of successful personal statements, visit the [Online Writing Lab (OWL).](https://owl.english.purdue.edu/owl/resource/642/02/)"
   ]
  },
  {
   "cell_type": "markdown",
   "metadata": {},
   "source": [
    "[PhD Personal Statements](https://www.wikijob.co.uk/content/postgraduate/phd/phd-personal-statements)   \n",
    "Example:\n",
    "\n",
    "“During my master’s degree at the University of Nottingham, I had two primary focuses: cultural behaviours and social media impacts. I was interested in how culture reacts under new stimuli, so I wrote my dissertation on how cultural practices can be newly read through the lens of media platforms. My proposed research proposal takes this theoretical and desk-based research a step further, exploring the reflections of the specific cultural practice of…”\n",
    "\n",
    "[Writing the Perfect Personal Statement for Your Master's or Ph.D Application](https://www.mastersportal.com/articles/2030/writing-the-perfect-personal-statement-for-your-masters-or-phd-application.html)\n",
    "\n",
    "[Personal Statements for PhD Study](https://www.findaphd.com/advice/finding/phd-personal-statement.aspx)\n",
    "\n",
    "[10 Compelling Machine Learning Dissertations from Ph.D. Students](https://medium.com/@ODSC/10-compelling-machine-learning-dissertations-from-ph-d-students-c85a2d73a7e)\n",
    "\n",
    "[Top 10 Tips for Writing a PhD Statement of Purpose](https://www.lebow.drexel.edu/news/top-ten-tips-writing-phd-statement-of-purpose)\n",
    "\n",
    "\n",
    "\n",
    "Drexel LeBow offers PhD programs in economics, finance, marketing and more. Learn more about our PhD programs today.\n",
    "\n",
    "If you are applying to a PhD program, trying to figure out what to say in your statement of purpose or personal statement can be the hardest part of the application, but it is the most important. You are certainly not alone if you are getting stuck on what to say.\n",
    "\n",
    "Below are tips for undergraduate and graduate students on writing these essays for doctoral applications. Many of these tips also apply to writing personal statements for other graduate program applications.\n",
    "1. Talk about Yourself\n",
    "\n",
    "Tell us about you! The whole point of the essay is for you to tell us who you are. The essay should convey your intellectual trajectory and how to came to the decision to further your education. Do not waste space telling the university and faculty how great they are and how much of an honor it would be to study under such brilliant minds (they already think that). We want to know who you are.\n",
    "2. Explain Why\n",
    "\n",
    "Answer the questions: Why do you want to obtain this degree? Why do you want to focus on this field (e.g. economics, finance, organizational behavior)? Why do you wish to study at this particular university?\n",
    "3. Show Fit\n",
    "\n",
    "Tell us how you fit with our program. Answer the question: Why are you a good match for this program? While point one says you should avoid showering faculty with praise, you should demonstrate knowledge of the program. Such knowledge is available on the program’s website or by talking with people in the program. Your essay should demonstrate knowledge of the university’s research and how you and your interests fit with that.\n",
    "4. Display Your Intellectual Curiosity\n",
    "\n",
    "What ideas and questions get you excited? Do you truly enjoy doing research? Why? Give us some examples that display your intellectual curiosity in action.\n",
    "5. Do Not Focus on Teaching\n",
    "\n",
    "PhD programs are all about training you to do high-quality, independent research. That is the purpose. In your statement, an emphasis on a love for teaching can be detrimental if it comes across as your primary objective. It is true that having a PhD qualifies you to become a university instructor. However, teaching may or may not be a part of your doctoral program. Even if it is, the faculty will want to see that you are focused on research.\n",
    "6. Include Research Experience and Skill Sets\n",
    "\n",
    "Help out the admissions committee by highlighting any relevant experience and skills you have. Be sure to point out any research experience in your essay even if mentioned on your resume. Such experience, in any context, helps demonstrate your interests and skill set. Also be sure to mention any other relevant skills for research that you may possess such as computer programming (e.g. C++, Python, etc.), software (e.g. SPSS, MATLAB, STATA) and writing. Be sure to highlight any recognition you received for writing; high level writing skills are a major plus.\n",
    "7. Address Past “Issues” Directly\n",
    "\n",
    "If you have any “black marks” on your record, such as poor grades, leaving a college program or any other issues, it is strongly advised that you address these head on in your letter. Admissions committees will not react well if it appears you are hiding or avoiding a topic. Failure is a common event in research. Showing how you successfully rebounded from setbacks bodes well for you.\n",
    "8. Proofread, edit, proofread, edit, proofread, edit\n",
    "\n",
    "This tip, you’d think, should go without saying. But, surprisingly, we often see sloppily written essays with typos, poor grammar, addressed to a different university and any other number of mistakes that could have easily been fixed. Be sure to ask others to proofread these essays for you. A sloppy essay signals you would be a sloppy researcher.\n",
    "9. Be Cautious in Focusing Too Much on Work Experience\n",
    "\n",
    "If you have work experience in the field, please note that this is not always helpful in applying to PhD programs. If you can link your work experience to your motivation and the relevant research topics, great! Be sure to do that. Having 5, 10 or 15+ years of experience may make you an excellent employee or manager, but that does not always translate into the academic research environment.\n",
    "10. Circulate your Statement\n",
    "\n",
    "In particular, be sure to share your essays with your recommendation writers. That helps them write stronger letters of support for you and ensures what they say is consistent with what you are saying. Furthermore, if you have drafts of your essay completed early enough, it is reasonable to ask them for feedback. They may not have time, but most faculty are quite willing to help their former students out if given sufficient notice.\n"
   ]
  }
 ],
 "metadata": {
  "kernelspec": {
   "display_name": "Python 3",
   "language": "python",
   "name": "python3"
  },
  "language_info": {
   "codemirror_mode": {
    "name": "ipython",
    "version": 3
   },
   "file_extension": ".py",
   "mimetype": "text/x-python",
   "name": "python",
   "nbconvert_exporter": "python",
   "pygments_lexer": "ipython3",
   "version": "3.7.3"
  }
 },
 "nbformat": 4,
 "nbformat_minor": 2
}
