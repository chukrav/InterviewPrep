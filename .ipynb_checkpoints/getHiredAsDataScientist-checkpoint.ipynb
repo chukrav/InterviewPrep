{
 "cells": [
  {
   "cell_type": "markdown",
   "metadata": {},
   "source": [
    "### [The 4 fastest ways not to get hired as a data scientist](https://towardsdatascience.com/the-4-fastest-ways-not-to-get-hired-as-a-data-scientist-565b42bd011e)\n",
    "Jeremie Harris\n",
    "Jun 12, 2018 · 6 min read\n",
    "\n",
    "_Avoiding these common mistakes won’t get you hired. But not avoiding them guarantees your application a one-way ticket to the “no” pile._"
   ]
  },
  {
   "cell_type": "markdown",
   "metadata": {},
   "source": [
    "_I’ve read a lot of data science resumes working at SharpestMinds._\n",
    "\n",
    "_Because the platform is built to be a giant feedback machine, we constantly hear back from companies who post to it — not only about whether they want to interview or hire candidates, but also about the reasons why they chose to interview or hire the ones they did._\n",
    "\n",
    "_That visibility into the decision-making processes of hundreds of companies has taught us a lot about what good resumes look like, and — just as importantly — what they don’t look like._\n",
    "\n",
    "**_Caveat: every company looks for something different. What gets you hired at Google may or may not work at other companies (and may even be meaningless). So building the “perfect” all-purpose data science resume is all-but-impossible._**\n",
    "\n",
    "_Having said that, there are a number of definite mistakes that we’ve seen pretty well guarantee that your application won’t be considered:_"
   ]
  },
  {
   "cell_type": "markdown",
   "metadata": {},
   "source": [
    "### 1. Featuring trivial projects on your resume\n",
    "\n",
    "It’s hard to think of a faster way to have your resume thrown into the “definite no” pile than featuring work you did on trivial proof-of-concept datasets among your highlighted personal projects.\n",
    "\n",
    "When in doubt, here are some projects that hurt you more than they help you:\n",
    "\n",
    "* Survival classification on the Titanic dataset.\n",
    "* Hand-written digit classification on the MNIST dataset.\n",
    "* Flower species classification using the iris dataset.\n",
    "\n",
    "__Why it hurts you__\n",
    "\n",
    "Space on a resume is limited. Candidates know it, and so do recruiters. So if “training wheel datasets” like MNIST are taking up some of that precious space, it can raise questions in recruiters’ minds about how far along you could really be in your data science journey. \n",
    "\n",
    "__What to do about it__   \n",
    "If your resume features these kinds of projects — and if you don’t have other, more challenging and substantial ones to replace them with — it’s a strong indication that you need to put some serious time into building up your portfolio.\n",
    "\n",
    "Of course, if you do have other, more interesting projects to showcase, then you’ll definitely want to swap them in.   \n",
    "\n",
    "__Exceptions__   \n",
    "It’s entirely possible to build sophisticated projects using well-studied datasets like MNIST or the Titanic Dataset. If you’re playing with a new kind of GAN you’ve invented, or you’re replicating an interesting capsule network paper, then go for it.\n",
    "\n",
    "But keep in mind that most recruiters are nontechnical, and they often work simply by looking for keywords, so you’ll have to make it very clear that your MNIST project involves more than just the trivial digit classification task."
   ]
  },
  {
   "cell_type": "markdown",
   "metadata": {},
   "source": [
    "### 2. Listing Udacity or Coursera projects in your portfolio\n",
    "\n",
    "Massive online open courses (MOOCs) like Udacity, Coursera and deeplearning.ai are fantastic ways to dive into deep learning and data science. Having said that, many companies look at candidates with skepticism if that’s all they have to show for themselves.\n",
    "\n",
    "___Some things to avoid:___   \n",
    "\n",
    "    Having a portfolio that largely consists of projects you’ve completed as part of your nanodegree/program.\n",
    "    Listing your MOOC too prominently, or as the very first data science-related component on your resume.\n",
    "\n",
    "__Why it hurts you__   \n",
    "\n",
    "There’s a fair bit of ego that goes into hiring. Companies want to be able to say that they only hire “very special people”, or “the top 1% of applicants”, etc. And because so many people now have MOOC certifications, it’s easy to be typecast as just another Udacity grad, which makes you sound less special.\n",
    "\n",
    "Recruiters are now familiar enough with many MOOCs to instantly recognize projects that are part of a standard nanodegree or MOOC (e.g. Udacity’s traffic sign classification task, which is nontrivial and even somewhat interesting, is featured on a disproportionate number of resumes). To sound special, you need to focus on problems that aren’t as well-explored.\n",
    "\n",
    "*** I want to be clear about something here: ___Udacity, Coursera and deeplearning.ai___ are awesome programs. They’re also legitimately correlated with hireability and technical ability (according to our own data). But putting them at the top of your list of advertised data science experience — with few other projects/experience — sets off red flags for recruiters who are looking for “someone really special”.  \n",
    "\n",
    "__What to do about it__   \n",
    "As soon as you finish your course or nanodegree, you’ll want to strike out on your own, and take part in Kaggle competitions, or replicate the results of interesting papers in the data science literature.\n",
    "\n",
    "__This is important because it:__   \n",
    "1. makes you look much more unique, \n",
    "2. gives you cutting-edge work to showcase and discuss during interviews, and \n",
    "3. shows that you’re capable of self-directed (and unsupported!) study.  \n",
    "\n",
    "__Exceptions__   \n",
    "One exception to this rule are capstone projects you may have completed as part of your MOOC, provided that they’re unique. By unique, I mean that you had the freedom to choose the dataset you wanted, and to solve the problem end-to-end largely on your own. Because this is effectively no different from going rogue and working on a side-project by yourself, it’s less likely to hurt you."
   ]
  },
  {
   "cell_type": "markdown",
   "metadata": {},
   "source": [
    "### 3. Absence of version control/devops/database skills\n",
    "\n",
    "Not including skills that indicate that you know how the data science sausage is made can be fatal.\n",
    "\n",
    "___Here are some must-haves:___  \n",
    "* Version control (e.g. GitHub/GitLab)\n",
    "* Devops (e.g. AWS/Floydhub/Digital Ocean/Flask)\n",
    "* Databasing (e.g. mySQL/mongoDB)\n",
    "\n",
    "___Why it hurts you___   \n",
    "\n",
    "What gets people excited about data science tends to be the algorithms. It’s fun to think of neural network or boosted tree architectures that could solve your problem.\n",
    "\n",
    "And as a result, that’s where most people invest their time. The problem is that designing models is not the same thing as production-level deep learning or data science.\n",
    "\n",
    "The not-so-fun parts of data science (setting up servers, cleaning data) are virtually guaranteed to make up most of your day-to-day as a data scientist, and the reality is that it’s no longer enough to be good at Python/sklearn/TensorFlow/Keras/PyTorch.\n",
    "\n",
    "Not including these bread-and-butter skills is also a great way to get skipped over by the median keyword-seeking recruiter, who is more interested in finding a reason to say “no”, than one to say “maybe”.\n",
    "\n",
    "No GitHub? No mongo? No thanks.\n",
    "\n",
    "___What to do about it___   \n",
    "If you have the skills but they’re not listed on your resume, list them. If you don’t have any experience with version control, devops and databasing tools, you need to get some. And not just because it looks good on a resume, but because it’s a necessary part of your bag of tricks as a data scientist.\n",
    "\n",
    "___Exceptions___   \n",
    "Listing these skills can be less important if you’re applying for more senior positions, where your experience with data science tools will be assumed."
   ]
  },
  {
   "cell_type": "markdown",
   "metadata": {},
   "source": [
    "### 4. Not having learned anything from the projects you’ve built\n",
    "\n",
    "Include a project on your resume, and there’s a good chance you’ll be asked about it if you’re interviewed.\n",
    "\n",
    "If the interviewer asks what you learned by working on a given project, “not much, really,” is not the right answer.\n",
    "\n",
    "___Why it hurts you___   \n",
    "Since you’ve taken the time to work on a project, questions related to what you’ve learned from it tell the interviewer a lot about how deeply you like to think about your problems, and your communication skills.\n",
    "\n",
    "It’s unlikely that even a fairly straightforward dataset won’t have something to teach you, so walking away none the wiser from a project can raise serious red flags.\n",
    "\n",
    "___What to do about it___   \n",
    "If you have a project listed on your resume, and you land an interview with a company, be prepared with some insights that might surprise someone who hasn’t worked with the dataset you tackled in that project.\n",
    "\n",
    "___Exceptions___   \n",
    "None, really. If you’re including a project on your resume, you really should have learned from building it."
   ]
  },
  {
   "cell_type": "markdown",
   "metadata": {},
   "source": [
    "### Bonus: Typos\n",
    "\n",
    "Ok, this one’s not data science-specific, but we were legitimately shocked to find how correlated typos were to interview performance. Consistently, people whose resumes feature typos — whether in the form of mis-spellings, or even sloppy formatting — performed more poorly than those whose resumes didn’t.\n",
    "\n",
    "Typos are a great example of a totally unforced error that you really shouldn’t be making, regardless of your level of experience. And they lead to objectively lower application -> interview transition rates.\n",
    "\n",
    "___Why it hurts you___   \n",
    "Unsurprisingly, attention to detail on your resume is, and is perceived to be, correlated with attention to detail on projects, and technical development.\n",
    "\n",
    "___What to do about it___   \n",
    "Have your resume reviewed by a friend who is\n",
    "1. a native English speaker, and \n",
    "2. attentive to detail. If you have to, promise them $50 if you get hired, just to motivate them that much more to catch any small details that are out of place.   \n",
    "\n",
    "___Exceptions___    \n",
    "Their should be no exeptions."
   ]
  }
 ],
 "metadata": {
  "kernelspec": {
   "display_name": "Python 3",
   "language": "python",
   "name": "python3"
  },
  "language_info": {
   "codemirror_mode": {
    "name": "ipython",
    "version": 3
   },
   "file_extension": ".py",
   "mimetype": "text/x-python",
   "name": "python",
   "nbconvert_exporter": "python",
   "pygments_lexer": "ipython3",
   "version": "3.7.3"
  }
 },
 "nbformat": 4,
 "nbformat_minor": 2
}
