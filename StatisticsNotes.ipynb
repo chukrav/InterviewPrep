{
 "cells": [
  {
   "cell_type": "markdown",
   "metadata": {},
   "source": [
    "### Mean ($\\mu$)\n",
    "\n",
    "The average of all the integers in a set of values. Here is the basic formula for calculating the mean of a set of $n$\n",
    "values:  $\\mu = \\frac{\\sum_{i=1}^n x_i}{n} $\n",
    ", where $x_i$ $ i^{th} $ is the element of the set. "
   ]
  },
  {
   "cell_type": "markdown",
   "metadata": {},
   "source": [
    "### Median\n",
    "\n",
    "The midpoint value of a data set for which an equal number of samples are less than and greater than the value. For an odd sample size, this is the middle element of the sorted sample; for an even sample size, this is the average of the $2$ middle elements of the sorted sample.\n",
    "\n",
    "### Mode\n",
    "\n",
    "The element(s) that occur most frequently in a data set. For the set $\\{1,1,1,2,2,3,4,4\\} $\n",
    ", the mode $1$ is because the number $1$ appears three times in the set and every other number in the set has a frequency $\\lt 3$. In contrast, the set $\\{1,2,3,4\\}$ is multimodal because no number in the set appears more than $1$ time, so every number in the set is a valid mode.\n"
   ]
  },
  {
   "cell_type": "markdown",
   "metadata": {},
   "source": [
    "### Weighted Mean\n",
    "\n",
    "Given a discrete set of numbers,$X$, and a corresponding set of weights,$W$, the weighted mean is calculated as follows:   \n",
    "$m_w = \\frac{\\sum_{i=1}^n (x_iw_i)}{\\sum_{i=1}^n w_i}   $\n",
    ", where $x_i$ and $w_i$ are the respective $i^{th}$ corresponding elements of $X$ and $Y$. "
   ]
  },
  {
   "cell_type": "markdown",
   "metadata": {},
   "source": [
    "### Quartile\n",
    "\n",
    "The quartiles of an ordered data set are the 3 points that split the data set into 4 equal groups. The 3 quartiles are defined as follows:   \n",
    "\n",
    "1. $Q1$: The first quartile is the middle number between the smallest number in a data set and its median.\n",
    "1. $Q2$: The second quartile is the ***median*** ($50^{th}$ percentile) of the data set.\n",
    "1. $Q3$: The third quartile is the middle number between a data set's median and its largest number."
   ]
  },
  {
   "cell_type": "markdown",
   "metadata": {},
   "source": [
    "### Expected Values\n",
    "\n",
    "The expected value of a discrete random variable, $X$, is more or less another way of referring to the mean ($\\mu$). We can also refer to this as the mathematical expectation (or just the expectation) of $X$.  \n",
    "\n",
    "### Variance $\\sigma^2$\n",
    "This is the average magnitude of fluctuations of $X$ from its expected value, $\\mu$. You can also think of it as the expectation of a random variable's squared deviation from its mean. Given a data set, $X$, of size $n$.   \n",
    "\n",
    "where is the element of the data set and is the mean of all the elements.\n",
    "\n",
    "### Standard Deviation $\\sigma$\n",
    "The standard deviation quantifies the amount of variation in a set of data values. Given a data set, $X$, of size $n$:    \n",
    "$\\sigma = \\sqrt \\frac {\\sum_{i=1}^n (x_i - \\mu)^2}{n}$ ??? $(n - 1)$"
   ]
  }
 ],
 "metadata": {
  "kernelspec": {
   "display_name": "Python 3",
   "language": "python",
   "name": "python3"
  },
  "language_info": {
   "codemirror_mode": {
    "name": "ipython",
    "version": 3
   },
   "file_extension": ".py",
   "mimetype": "text/x-python",
   "name": "python",
   "nbconvert_exporter": "python",
   "pygments_lexer": "ipython3",
   "version": "3.7.3"
  }
 },
 "nbformat": 4,
 "nbformat_minor": 2
}
